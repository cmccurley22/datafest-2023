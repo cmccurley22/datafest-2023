{
 "cells": [
  {
   "cell_type": "code",
   "execution_count": null,
   "metadata": {},
   "outputs": [],
   "source": [
    "import pandas as pd\n",
    "\n",
    "df_c = pd.read_csv(\"controversial500.csv\")\n",
    "df_n = pd.read_csv(\"new500.csv\")\n",
    "df_r = pd.read_csv(\"rising500.csv\")\n",
    "df_t = pd.read_csv(\"top500.csv\")\n",
    "\n",
    "test_res = pd.concat([df_c, df_n, df_r, df_t])\n",
    "\n",
    "test_res.to_csv(\"big_data.csv\")\n",
    "\n",
    "test_res"
   ]
  }
 ],
 "metadata": {
  "language_info": {
   "name": "python"
  },
  "orig_nbformat": 4
 },
 "nbformat": 4,
 "nbformat_minor": 2
}
